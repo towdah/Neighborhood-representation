{
 "cells": [
  {
   "cell_type": "markdown",
   "metadata": {},
   "source": [
    "# Diversity versus Segregation into neigborhood"
   ]
  },
  {
   "cell_type": "markdown",
   "metadata": {},
   "source": [
    "Household differ in\n",
    "Income\n",
    "Race\n",
    "Ethnicity\n",
    "Education\n",
    "Integrated neighborhood: different households have an equal representation.\n",
    "Segregated neighborhood: a given type of household is a majority."
   ]
  },
  {
   "cell_type": "markdown",
   "metadata": {},
   "source": [
    "# Residential Choice"
   ]
  },
  {
   "cell_type": "markdown",
   "metadata": {},
   "source": [
    "People value neighborhood attributes, e.g., school, park space, safety, referred to as local public goods\n",
    "People differ in their preferences\n",
    "These attributes differ from one neighborhood to another"
   ]
  },
  {
   "cell_type": "markdown",
   "metadata": {},
   "source": [
    "# Local Public goals"
   ]
  },
  {
   "cell_type": "markdown",
   "metadata": {},
   "source": [
    "Local- Goods available for people living in a certain locality to consumer\n",
    "Public Goods-They are:\n",
    "Non rival in consumption- consumption by one does not limit the value to others\n",
    "Non excludable – no mechanism to exclude people from consuming\n"
   ]
  },
  {
   "cell_type": "markdown",
   "metadata": {},
   "source": [
    "# Financing Local public goals"
   ]
  },
  {
   "cell_type": "markdown",
   "metadata": {},
   "source": [
    "It is not easy to charge people based on use.\n",
    "Local public goods are financed through\n",
    "A head tax: equal amount paid by all\n",
    "A property tax: tax levied on the property value\n",
    "Each tax system creates different incentives for household to locate (potentially creating segregated neighborhoods?)"
   ]
  },
  {
   "cell_type": "markdown",
   "metadata": {},
   "source": [
    "# Variation in Consumption of the taxed good"
   ]
  },
  {
   "cell_type": "markdown",
   "metadata": {},
   "source": [
    "With three types of preferences and three property values:\n",
    "High Demand\n",
    "High property value\n",
    "Medium property value\n",
    "Low property value\n",
    "Medium Demand\n",
    "Low Demand High property value\n",
    "Low Demand\n",
    "Causes of segregated neighborhoods:\n",
    "2.Variation in the taxed good\n"
   ]
  },
  {
   "cell_type": "markdown",
   "metadata": {},
   "source": [
    "# School and neighborhood choice"
   ]
  },
  {
   "cell_type": "markdown",
   "metadata": {},
   "source": [
    "Education Production Function\n",
    "Achievement = f (H, P, T, S)\n",
    "H: Home environment\n",
    "P: Peer group\n",
    "T: Teachers\n",
    "S: Class size\n",
    "Externalities from the peer group\n",
    "Favorable peers are smart, motivated, not disruptive\n",
    "Evidence that low achievers have the most to gain\n",
    "Evidence that peer effects most important for grades 5-12"
   ]
  },
  {
   "cell_type": "markdown",
   "metadata": {},
   "source": [
    "# Crime and Neighborhood choice"
   ]
  },
  {
   "cell_type": "markdown",
   "metadata": {},
   "source": [
    "Crime rates are generally lower in high income neighborhoods\n",
    "There is a positive premium for low crime neighborhoods and high income households have a higher premium for low crime neighborhoods\n",
    "If there is a positive correlation between low crime rates and household incomes then segregation results."
   ]
  }
 ],
 "metadata": {
  "kernelspec": {
   "display_name": "Python 3",
   "language": "python",
   "name": "python3"
  },
  "language_info": {
   "codemirror_mode": {
    "name": "ipython",
    "version": 3
   },
   "file_extension": ".py",
   "mimetype": "text/x-python",
   "name": "python",
   "nbconvert_exporter": "python",
   "pygments_lexer": "ipython3",
   "version": "3.7.6"
  }
 },
 "nbformat": 4,
 "nbformat_minor": 4
}
